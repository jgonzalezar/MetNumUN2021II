{
  "nbformat": 4,
  "nbformat_minor": 0,
  "metadata": {
    "colab": {
      "name": "group9SymPyLab.ipynb",
      "provenance": [],
      "collapsed_sections": [],
      "include_colab_link": true
    },
    "kernelspec": {
      "name": "python3",
      "display_name": "Python 3"
    }
  },
  "cells": [
    {
      "cell_type": "markdown",
      "metadata": {
        "id": "view-in-github",
        "colab_type": "text"
      },
      "source": [
        "<a href=\"https://colab.research.google.com/github/jgonzalezar/MetNumUN2021II/blob/main/Lab5/group9SymPyLab.ipynb\" target=\"_parent\"><img src=\"https://colab.research.google.com/assets/colab-badge.svg\" alt=\"Open In Colab\"/></a>"
      ]
    },
    {
      "cell_type": "markdown",
      "metadata": {
        "id": "vtY1shFnMal_"
      },
      "source": [
        "# SymPyLab\n",
        "\n",
        "SymPy’s documentation\n",
        "- https://docs.sympy.org/latest/index.html\n"
      ]
    },
    {
      "cell_type": "markdown",
      "metadata": {
        "id": "2U0fAIf5G4rR"
      },
      "source": [
        "## SymPy’s polynomials \n",
        "- https://docs.sympy.org/latest/modules/polys/basics.html#polynomials \n",
        "\n",
        "$$ P_n(x) =  a_n x^n + a_{n-1} x^{n-1} + a_{n-2} x^{n-2} +\\cdots +  a_1 x  + a_0$$\n",
        "\n",
        "$$P_n(x) = 0 $$\n",
        "\n",
        "$$a_n x^n + a_{n-1} x^{n-1} + a_{n-2} x^{n-2} +\\cdots +  a_1 x  + a_0 = 0$$\n",
        "\n",
        "$$(x-r_1) Q_{n-1}(x) = P_n(x)$$\n",
        "$$(x-r_1) (x - r_2) Q_{n-2}(x) = P_n(x)$$\n",
        "$$ \\vdots $$\n",
        "\n",
        "- (x-7)(3x+4)(x-1)(x-4)(x-12) (x+2) = 3 x^6 - 62 x^5 + 317 x^4 + 150 x^3 - 2488 x^2 - 608 x + 2688\n",
        "\n",
        "- (3 x^6 - 62 x^5 + 317 x^4 + 150 x^3 - 2488 x^2 - 608 x + 2688) / (5x-3) = x^4  - 14 x^3  + 71 x^2  - 154 x + 120"
      ]
    },
    {
      "cell_type": "markdown",
      "metadata": {
        "id": "GSRpl42A6UXg"
      },
      "source": [
        "<img src=\"https://raw.githubusercontent.com/icaseres/MetNumUN2021II/main/Lab5/Punto%201.1.PNG\" /> <img src=\"https://raw.githubusercontent.com/icaseres/MetNumUN2021II/main/Lab5/Punto%201.2.PNG\" />\n"
      ]
    },
    {
      "cell_type": "code",
      "metadata": {
        "id": "Fw1yPZWLMb5P",
        "colab": {
          "base_uri": "https://localhost:8080/"
        },
        "outputId": "f7be84ff-30b0-4b3c-bcc9-afe4391ec6d0"
      },
      "source": [
        "from sympy import Symbol\n",
        "from sympy import div\n",
        "\n",
        "x = Symbol('x')\n",
        "\n",
        "p = 3*x**6 - 62*x**5  + 317*x**4 + 150*x**3 - 2488*x**2 - 608*x + 2688\n",
        "\n",
        "p, r = div(p,  x-7)\n",
        "\n",
        "print(p)\n",
        "print(r)\n",
        "\n",
        "p, r = div(p,  x-1)\n",
        "\n",
        "print(p)\n",
        "print(r)\n",
        "\n",
        "p, r = div(p,  x-4)\n",
        "\n",
        "print(p)\n",
        "print(r)\n",
        "\n",
        "p, r = div(p,  x-12)\n",
        "\n",
        "print(p)\n",
        "print(r)\n",
        "\n",
        "p, r = div(p,  3*x+4)\n",
        "\n",
        "print(p)\n",
        "print(r)\n",
        "\n",
        "\n",
        "\n"
      ],
      "execution_count": null,
      "outputs": [
        {
          "output_type": "stream",
          "name": "stdout",
          "text": [
            "3*x**5 - 41*x**4 + 30*x**3 + 360*x**2 + 32*x - 384\n",
            "0\n",
            "3*x**4 - 38*x**3 - 8*x**2 + 352*x + 384\n",
            "0\n",
            "3*x**3 - 26*x**2 - 112*x - 96\n",
            "0\n",
            "3*x**2 + 10*x + 8\n",
            "0\n",
            "x + 2\n",
            "0\n"
          ]
        }
      ]
    },
    {
      "cell_type": "code",
      "metadata": {
        "colab": {
          "base_uri": "https://localhost:8080/"
        },
        "id": "gQ-VwywTarYw",
        "outputId": "d26def91-6ae6-45ae-cbb0-a6923e0a7d0f"
      },
      "source": [
        "p = 3*x**6 - 62*x**5  + 317*x**4 + 150*x**3 - 2488*x**2 - 608*x + 2688\n",
        "\n",
        "p, r = div(p,  x+2)\n",
        "\n",
        "print(p)\n",
        "print(r)"
      ],
      "execution_count": null,
      "outputs": [
        {
          "output_type": "stream",
          "name": "stdout",
          "text": [
            "3*x**5 - 68*x**4 + 453*x**3 - 756*x**2 - 976*x + 1344\n",
            "0\n"
          ]
        }
      ]
    },
    {
      "cell_type": "code",
      "metadata": {
        "colab": {
          "base_uri": "https://localhost:8080/"
        },
        "id": "uBnZOYnm3LSE",
        "outputId": "6210310e-b49b-439f-ecda-4126adc29013"
      },
      "source": [
        "p = 3*x**6 - 62*x**5  + 317*x**4 + 150*x**3 - 2488*x**2 - 608*x + 2688\n",
        "\n",
        "p, r = div(p,  5*x-3)\n",
        "\n",
        "print(p)\n",
        "print(r)"
      ],
      "execution_count": null,
      "outputs": [
        {
          "output_type": "stream",
          "name": "stdout",
          "text": [
            "3*x**5/5 - 301*x**4/25 + 7022*x**3/125 + 39816*x**2/625 - 1435552*x/3125 - 6206656/15625\n",
            "23380032/15625\n"
          ]
        }
      ]
    },
    {
      "cell_type": "markdown",
      "metadata": {
        "id": "LrP1xT6VKZrE"
      },
      "source": [
        "## SymPy’s polynomial simple univariate polynomial factorization\n",
        "- https://docs.sympy.org/latest/modules/polys/wester.html#simple-univariate-polynomial-factorization\n",
        "- factor(x\\*\\*5 - 15\\*x\\*\\*4  + 85\\*x\\*\\*3 - 225\\*x\\*\\*2 + 274\\*x - 120)"
      ]
    },
    {
      "cell_type": "markdown",
      "metadata": {
        "id": "2NPChCoPLsls"
      },
      "source": [
        "<img src=\"https://raw.githubusercontent.com/gjhernandezp/algorithms/master/SymPyLab/sympylabwolfram4.jpg\" />\n"
      ]
    },
    {
      "cell_type": "code",
      "metadata": {
        "id": "i2vHjXOIKvQu",
        "colab": {
          "base_uri": "https://localhost:8080/",
          "height": 38
        },
        "outputId": "7665d040-fdc1-4659-e6dc-abdae31195d3"
      },
      "source": [
        "from sympy import Symbol,factor\n",
        "x = Symbol('x')\n",
        "factor(x**5 - 15*x**4  + 85*x**3 - 225*x**2 + 274*x - 120)"
      ],
      "execution_count": null,
      "outputs": [
        {
          "output_type": "execute_result",
          "data": {
            "text/latex": "$\\displaystyle \\left(x - 5\\right) \\left(x - 4\\right) \\left(x - 3\\right) \\left(x - 2\\right) \\left(x - 1\\right)$",
            "text/plain": [
              "(x - 5)*(x - 4)*(x - 3)*(x - 2)*(x - 1)"
            ]
          },
          "metadata": {},
          "execution_count": 3
        }
      ]
    },
    {
      "cell_type": "markdown",
      "metadata": {
        "id": "xoq8A5ipMdRa"
      },
      "source": [
        "## SymPy’s solvers\n",
        "- https://docs.sympy.org/latest/tutorial/solvers.html\n",
        "- 3\\*x\\*\\*6 - 62\\*x\\*\\*5  + 317\\*x\\*\\*4 + 150\\*x\\*\\*3 - 2488\\*x\\*\\*2 - 608\\*x + 2688 = 0"
      ]
    },
    {
      "cell_type": "markdown",
      "metadata": {
        "id": "UpEjlqXZMk8i"
      },
      "source": [
        "<img src=\"https://raw.githubusercontent.com/icaseres/MetNumUN2021II/main/Lab5/Punto%202.1.PNG\" />"
      ]
    },
    {
      "cell_type": "code",
      "metadata": {
        "id": "DLzUsS8YMlNK",
        "colab": {
          "base_uri": "https://localhost:8080/",
          "height": 58
        },
        "outputId": "3def291d-9bbd-41f1-a215-9b67260b8363"
      },
      "source": [
        "from sympy import Symbol, solveset, Eq\n",
        "x = Symbol('x')\n",
        "solveset(Eq(3*x**6 - 62*x**5  + 317*x**4 + 150*x**3 - 2488*x**2 - 608*x + 2688, 0), x)\n"
      ],
      "execution_count": 4,
      "outputs": [
        {
          "output_type": "execute_result",
          "data": {
            "text/latex": "$\\displaystyle \\left\\{-2, - \\frac{4}{3}, 1, 4, 7, 12\\right\\}$",
            "text/plain": [
              "FiniteSet(-2, -4/3, 1, 4, 7, 12)"
            ]
          },
          "metadata": {},
          "execution_count": 4
        }
      ]
    },
    {
      "cell_type": "code",
      "metadata": {
        "colab": {
          "base_uri": "https://localhost:8080/",
          "height": 47
        },
        "id": "ALzYmizCcXvv",
        "outputId": "b73e0cbd-8b3d-49c2-df1a-5d4977208fef"
      },
      "source": [
        "from sympy import Symbol, solveset, Eq, sqrt, pi\n",
        "x = Symbol('x')\n",
        "solveset(Eq(x**2 - (sqrt(2)+pi)*x + (sqrt(2)*pi) , 0), x)\n"
      ],
      "execution_count": null,
      "outputs": [
        {
          "output_type": "execute_result",
          "data": {
            "text/latex": "$\\displaystyle \\left\\{\\sqrt{2}, \\pi\\right\\}$",
            "text/plain": [
              "FiniteSet(pi, sqrt(2))"
            ]
          },
          "metadata": {},
          "execution_count": 5
        }
      ]
    },
    {
      "cell_type": "code",
      "metadata": {
        "colab": {
          "base_uri": "https://localhost:8080/",
          "height": 47
        },
        "id": "XSU9XyQZ-ogN",
        "outputId": "7cd01770-c3e4-4f54-8403-a4e763ca238d"
      },
      "source": [
        "from sympy import Symbol, solveset, Eq, sqrt, pi\n",
        "x = Symbol('x')\n",
        "solveset(Eq(3*x**5 - (sqrt(8)+pi)*x + (sqrt(8)*pi) , 0), x)"
      ],
      "execution_count": 9,
      "outputs": [
        {
          "output_type": "execute_result",
          "data": {
            "text/latex": "$\\displaystyle \\left\\{x \\mid x \\in \\mathbb{C} \\wedge 3 x^{5} - x \\left(2 \\sqrt{2} + \\pi\\right) + 2 \\sqrt{2} \\pi = 0 \\right\\}$",
            "text/plain": [
              "ConditionSet(x, Eq(3*x**5 - x*(2*sqrt(2) + pi) + 2*sqrt(2)*pi, 0), Complexes)"
            ]
          },
          "metadata": {},
          "execution_count": 9
        }
      ]
    },
    {
      "cell_type": "markdown",
      "metadata": {
        "id": "kw48-B_Z_vQc"
      },
      "source": [
        "*   Reference docs for the Poly Domains https://docs.sympy.org/dev/modules/polys/domainsref.html\n",
        "\n",
        "*   Introducing the Domains of the poly module https://docs.sympy.org/dev/modules/polys/domainsintro.html\n",
        "\n",
        "*   Internals of the Polynomial Manipulation Module https://docs.sympy.org/latest/modules/polys/internals.html"
      ]
    },
    {
      "cell_type": "code",
      "metadata": {
        "colab": {
          "base_uri": "https://localhost:8080/"
        },
        "id": "r8jvBe5E_uQb",
        "outputId": "af2a56e5-b97e-4cac-96c4-598ab93154cb"
      },
      "source": [
        "from sympy import Symbol\n",
        "from sympy import div\n",
        "\n",
        "x = Symbol('x')\n",
        "\n",
        "def PolyGF2(p,mod):\n",
        "    q,r = div(p,mod,x) #quotient and remainder polynomial division by modulus mod\n",
        "    return q.as_poly(x,domain='GF(2)'), r.as_poly(x,domain='GF(2)')  #Z_2 ={0,1}\n",
        "\n",
        "p = 3*x**6 - 62*x**5  + 317*x**4 + 150*x**3 - 2488*x**2 - 608*x + 2688\n",
        "m = x- (-1)\n",
        "q,r = PolyGF2(p,m)\n",
        "print(\"Quotient = \", q)\n",
        "print(\"Residual= \", r)"
      ],
      "execution_count": 7,
      "outputs": [
        {
          "output_type": "stream",
          "name": "stdout",
          "text": [
            "Quotient =  Poly(x**5 + x**4, x, modulus=2)\n",
            "Residual=  Poly(0, x, modulus=2)\n"
          ]
        }
      ]
    },
    {
      "cell_type": "markdown",
      "metadata": {
        "id": "OtsxSwPmV3Vs"
      },
      "source": [
        "## SymPy’s Symbolic and Numercical Complex Evaluations\n",
        "- https://docs.sympy.org/latest/modules/evalf.html](https://)\n",
        "- x = x1 + I*x2,y = y1 + I*y2, z = z1 + I*z2, x*y*z"
      ]
    },
    {
      "cell_type": "markdown",
      "metadata": {
        "id": "XxWt-AcaZxdp"
      },
      "source": [
        "<img src=\"https://raw.githubusercontent.com/gjhernandezp/algorithms/master/SymPyLab/sympylabwolfram7.jpg\" />"
      ]
    },
    {
      "cell_type": "code",
      "metadata": {
        "id": "ENDQbfLGV31r",
        "colab": {
          "base_uri": "https://localhost:8080/"
        },
        "outputId": "9619e0d8-b8b8-4373-fd18-21c3a83db45e"
      },
      "source": [
        "from sympy import *\n",
        "x1, x2, y1, y2, z1, z2 = symbols(\"x1 x2 y1 y2 z1 z2\", real=True)  \n",
        "x = x1 + I*x2\n",
        "y = y1 + I*y2\n",
        "z = z1 + I*z2\n",
        "\n",
        "print(x*y*z)\n",
        "print(expand(x*y*z))\n",
        "print(expand((x*y)*z))\n",
        "print(expand(x*(y*z)))\n",
        "\n",
        "w=N(1/(pi + I), 20)\n",
        "print('w=',w)"
      ],
      "execution_count": null,
      "outputs": [
        {
          "output_type": "stream",
          "name": "stdout",
          "text": [
            "(x1 + I*x2)*(y1 + I*y2)*(z1 + I*z2)\n",
            "x1*y1*z1 + I*x1*y1*z2 + I*x1*y2*z1 - x1*y2*z2 + I*x2*y1*z1 - x2*y1*z2 - x2*y2*z1 - I*x2*y2*z2\n",
            "x1*y1*z1 + I*x1*y1*z2 + I*x1*y2*z1 - x1*y2*z2 + I*x2*y1*z1 - x2*y1*z2 - x2*y2*z1 - I*x2*y2*z2\n",
            "x1*y1*z1 + I*x1*y1*z2 + I*x1*y2*z1 - x1*y2*z2 + I*x2*y1*z1 - x2*y1*z2 - x2*y2*z1 - I*x2*y2*z2\n",
            "w= 0.28902548222223624241 - 0.091999668350375232456*I\n"
          ]
        }
      ]
    },
    {
      "cell_type": "code",
      "metadata": {
        "colab": {
          "base_uri": "https://localhost:8080/"
        },
        "id": "eyn67_fKiMFH",
        "outputId": "a96edc0b-7e7b-44bc-95cd-913ccb8b5df1"
      },
      "source": [
        "#icaseres\n",
        "from sympy import *\n",
        "x1, x2, x3, y1, y2, y3, z1, z2 = symbols(\"x1 x2 x3 y1 y2 y3 z1 z2\", real=True)  \n",
        "x = x1 - x2 + x3*I\n",
        "y = y1 + I*y2 -y3\n",
        "z = z1 - I/z2\n",
        "\n",
        "print(x/y-z)\n",
        "print(expand(x/y-z))\n",
        "print(expand((x/y)-z))\n",
        "print(expand(x/(y-z)))\n",
        "\n",
        "w=N(1/(pi + I), 25)\n",
        "print('w=',w)"
      ],
      "execution_count": null,
      "outputs": [
        {
          "output_type": "stream",
          "name": "stdout",
          "text": [
            "-z1 + (x1 - x2 + I*x3)/(y1 + I*y2 - y3) + I/z2\n",
            "x1/(y1 + I*y2 - y3) - x2/(y1 + I*y2 - y3) + I*x3/(y1 + I*y2 - y3) - z1 + I/z2\n",
            "x1/(y1 + I*y2 - y3) - x2/(y1 + I*y2 - y3) + I*x3/(y1 + I*y2 - y3) - z1 + I/z2\n",
            "x1/(y1 + I*y2 - y3 - z1 + I/z2) - x2/(y1 + I*y2 - y3 - z1 + I/z2) + I*x3/(y1 + I*y2 - y3 - z1 + I/z2)\n",
            "w= 0.2890254822222362424101705 - 0.09199966835037523245580161*I\n"
          ]
        }
      ]
    },
    {
      "cell_type": "markdown",
      "metadata": {
        "id": "trd58CmIi7lX"
      },
      "source": [
        "<img src=\"https://raw.githubusercontent.com/icaseres/MetNumUN2021II/main/Lab5/Cuarto%20punto.png\" />"
      ]
    },
    {
      "cell_type": "markdown",
      "metadata": {
        "id": "eaqIgmnkPNVT"
      },
      "source": [
        "## Wolfram alpha answers quastion in natural languaje\n",
        "- What is the average temperature in Bogota in September?\n",
        "\n",
        "<img src=\"https://raw.githubusercontent.com/gjhernandezp/algorithms/master/SymPyLab/sympylabwolfram6.jpg\" />"
      ]
    },
    {
      "cell_type": "markdown",
      "metadata": {
        "id": "stpBA866WZQ6"
      },
      "source": [
        "- What is the average car accident in Europe?\n",
        "\n",
        "<img src=\"https://raw.githubusercontent.com/icaseres/MetNumUN2021II/main/Lab5/Último%20punto.jpeg\" />"
      ]
    }
  ]
}